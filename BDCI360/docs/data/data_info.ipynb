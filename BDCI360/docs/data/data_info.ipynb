{
 "cells": [
  {
   "cell_type": "code",
   "execution_count": 27,
   "metadata": {},
   "outputs": [
    {
     "name": "stderr",
     "output_type": "stream",
     "text": [
      "b'Skipping line 253: expected 4 fields, saw 5\\nSkipping line 106197: expected 4 fields, saw 5\\n'\n",
      "b'Skipping line 189599: expected 4 fields, saw 5\\n'\n"
     ]
    },
    {
     "data": {
      "text/html": [
       "<div>\n",
       "<style>\n",
       "    .dataframe thead tr:only-child th {\n",
       "        text-align: right;\n",
       "    }\n",
       "\n",
       "    .dataframe thead th {\n",
       "        text-align: left;\n",
       "    }\n",
       "\n",
       "    .dataframe tbody tr th {\n",
       "        vertical-align: top;\n",
       "    }\n",
       "</style>\n",
       "<table border=\"1\" class=\"dataframe\">\n",
       "  <thead>\n",
       "    <tr style=\"text-align: right;\">\n",
       "      <th></th>\n",
       "      <th>id</th>\n",
       "      <th>title</th>\n",
       "      <th>content</th>\n",
       "      <th>labels</th>\n",
       "    </tr>\n",
       "  </thead>\n",
       "  <tbody>\n",
       "    <tr>\n",
       "      <th>0</th>\n",
       "      <td>2e4e1c09ec9f1d9fda4fde58929d28f6</td>\n",
       "      <td>焉耆加强社会消防技术服务机构监督管理</td>\n",
       "      <td>进一步规范社会消防技术服务机构管理，营造依法执业、更有不具备执业资格人员执业现象的发生、更有...</td>\n",
       "      <td>NEGATIVE</td>\n",
       "    </tr>\n",
       "    <tr>\n",
       "      <th>1</th>\n",
       "      <td>ba211cf520cd51623b87b6939e16053c</td>\n",
       "      <td>工人失足摔伤 贵州长顺消防成功营救</td>\n",
       "      <td>图为救援现场7月12日17时21分，贵州省长顺县消防接到群众报警称:在长顺县潮顺洗车场旁边的...</td>\n",
       "      <td>POSITIVE</td>\n",
       "    </tr>\n",
       "    <tr>\n",
       "      <th>2</th>\n",
       "      <td>4956dba7d0741dced0a5cd67e24e833f</td>\n",
       "      <td>贡山电影院背后山体滑坡 9人获救</td>\n",
       "      <td>图为碧罗数字电影院背后发生山体滑坡。 郭健摄记者15日从云南省怒江州贡山县公安消防大队获悉，...</td>\n",
       "      <td>POSITIVE</td>\n",
       "    </tr>\n",
       "    <tr>\n",
       "      <th>3</th>\n",
       "      <td>355dc9ca778589a177bf1b48e9de45e4</td>\n",
       "      <td>重庆永川消防提示:夏季酷暑来临 警惕火灾隐患</td>\n",
       "      <td>电影院部分房屋结构变形、两个安全疏散门变形无法打开，自入伏以来，忌水性物质有生石灰，居民和单...</td>\n",
       "      <td>NEGATIVE</td>\n",
       "    </tr>\n",
       "    <tr>\n",
       "      <th>4</th>\n",
       "      <td>2cb6d69651c6f2bceee1a16f8ab8c908</td>\n",
       "      <td>渝两江新区消防宣传赶早集 \"安全礼包\"送市民</td>\n",
       "      <td>发放宣传资料宣传现场宣传现场盛夏时节，用电用气量剧增，稍有不慎就容易引发火灾、酿成悲剧。为全...</td>\n",
       "      <td>POSITIVE</td>\n",
       "    </tr>\n",
       "  </tbody>\n",
       "</table>\n",
       "</div>"
      ],
      "text/plain": [
       "                                 id                   title  \\\n",
       "0  2e4e1c09ec9f1d9fda4fde58929d28f6      焉耆加强社会消防技术服务机构监督管理   \n",
       "1  ba211cf520cd51623b87b6939e16053c       工人失足摔伤 贵州长顺消防成功营救   \n",
       "2  4956dba7d0741dced0a5cd67e24e833f        贡山电影院背后山体滑坡 9人获救   \n",
       "3  355dc9ca778589a177bf1b48e9de45e4  重庆永川消防提示:夏季酷暑来临 警惕火灾隐患   \n",
       "4  2cb6d69651c6f2bceee1a16f8ab8c908  渝两江新区消防宣传赶早集 \"安全礼包\"送市民   \n",
       "\n",
       "                                             content    labels  \n",
       "0  进一步规范社会消防技术服务机构管理，营造依法执业、更有不具备执业资格人员执业现象的发生、更有...  NEGATIVE  \n",
       "1  图为救援现场7月12日17时21分，贵州省长顺县消防接到群众报警称:在长顺县潮顺洗车场旁边的...  POSITIVE  \n",
       "2  图为碧罗数字电影院背后发生山体滑坡。 郭健摄记者15日从云南省怒江州贡山县公安消防大队获悉，...  POSITIVE  \n",
       "3  电影院部分房屋结构变形、两个安全疏散门变形无法打开，自入伏以来，忌水性物质有生石灰，居民和单...  NEGATIVE  \n",
       "4  发放宣传资料宣传现场宣传现场盛夏时节，用电用气量剧增，稍有不慎就容易引发火灾、酿成悲剧。为全...  POSITIVE  "
      ]
     },
     "execution_count": 27,
     "metadata": {},
     "output_type": "execute_result"
    }
   ],
   "source": [
    "import pandas as pd\n",
    "import matplotlib.pyplot as plt\n",
    "\n",
    "df = pd.read_csv('train.tsv',sep='\\t', header=None, error_bad_lines=False)\n",
    "df.columns = [\"id\", \"title\", \"content\", \"labels\"]\n",
    "\n",
    "df.head()"
   ]
  },
  {
   "cell_type": "code",
   "execution_count": 62,
   "metadata": {},
   "outputs": [
    {
     "data": {
      "image/png": "[encoded data removed]",
      "text/plain": [
       "<matplotlib.figure.Figure at 0x119e42e10>"
      ]
     },
     "metadata": {},
     "output_type": "display_data"
    }
   ],
   "source": [
    "neg_len = df.loc[df['labels']=='NEGATIVE']['content'].str.len().value_counts()\n",
    "neg_len.columns = [\"text_len\", \"cnt\"]\n",
    "# neg_len\n",
    "# neg_len.head()\n",
    "# plt.figure()\n",
    "neg_len.hist(alpha=0.5)\n",
    "plt.show()"
   ]
  },
  {
   "cell_type": "code",
   "execution_count": null,
   "metadata": {},
   "outputs": [],
   "source": []
  }
 ],
 "metadata": {
  "kernelspec": {
   "display_name": "Python 3",
   "language": "python",
   "name": "python3"
  },
  "language_info": {
   "codemirror_mode": {
    "name": "ipython",
    "version": 3
   },
   "file_extension": ".py",
   "mimetype": "text/x-python",
   "name": "python",
   "nbconvert_exporter": "python",
   "pygments_lexer": "ipython3",
   "version": "3.6.2"
  }
 },
 "nbformat": 4,
 "nbformat_minor": 2
}
